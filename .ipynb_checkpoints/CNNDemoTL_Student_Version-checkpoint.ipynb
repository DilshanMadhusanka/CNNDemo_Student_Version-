{
 "cells": [
  {
   "cell_type": "markdown",
   "id": "b0d27821aa5691a1",
   "metadata": {
    "id": "b0d27821aa5691a1"
   },
   "source": [
    "# CNN Implementation with PyTorch"
   ]
  },
  {
   "cell_type": "markdown",
   "id": "c01cc97e25cc1bcd",
   "metadata": {
    "id": "c01cc97e25cc1bcd"
   },
   "source": [
    "Dataset: CIFAR10 (Ref: https://www.cs.toronto.edu/~kriz/cifar.html)\n",
    "Info: <br>\n",
    "> Number of Images: 60000,  32 * 32 in resolution\n",
    "> Number of Classes: 10 (Airplane, Automobile, Bird, Cat, Deer, Dog, Frog, Horse, Ship, Truck)\n",
    "\n",
    "**Prerequisites**\n",
    "> PyTorch Basics: https://youtu.be/OIenNRt2bjg\n",
    "> Python Basics: https://youtu.be/rfscVS0vtbw\n",
    "\n",
    "**References:**\n",
    "1. https://pytorch.org/tutorials/beginner/blitz/cifar10_tutorial.html\n",
    "2. https://wandb.ai/authors/ayusht/reports/Implementing-Dropout-Regularization-in-PyTorch--VmlldzoxNTgwOTE\n",
    "3. https://medium.com/artificialis/dropout-regularization-using-pytorch-in-python-7765337cb158\n",
    "3. https://pytorch.org/vision/stable/auto_examples/transforms/plot_transforms_illustrations.html#sphx-glr-auto-examples-transforms-plot-transforms-illustrations-py\n",
    "4. https://pytorch.org/vision/main/datasets.html\n",
    "5. https://pytorch.org/tutorials/beginner/basics/data_tutorial.html\n",
    "6. https://pytorch.org/tutorials/beginner/basics/tensorqs_tutorial.html#:~:text=Tensors%20are%20a%20specialized%20data,GPUs%20or%20other%20hardware%20accelerators."
   ]
  },
  {
   "cell_type": "markdown",
   "id": "Pb6keXViWU8u",
   "metadata": {
    "id": "Pb6keXViWU8u"
   },
   "source": [
    "## Load Google Drive"
   ]
  },
  {
   "cell_type": "code",
   "execution_count": null,
   "id": "aapyS3bNWZWW",
   "metadata": {
    "id": "aapyS3bNWZWW"
   },
   "outputs": [],
   "source": [
    "# Load Google drive into Colab"
   ]
  },
  {
   "cell_type": "markdown",
   "id": "9679f61635195c82",
   "metadata": {
    "id": "9679f61635195c82"
   },
   "source": [
    "## Load the Necessary Libraries"
   ]
  },
  {
   "cell_type": "code",
   "execution_count": null,
   "id": "initial_id",
   "metadata": {
    "ExecuteTime": {
     "end_time": "2024-03-30T16:29:01.906238Z",
     "start_time": "2024-03-30T16:28:53.875186Z"
    },
    "collapsed": true,
    "id": "initial_id"
   },
   "outputs": [],
   "source": [
    "import torch\n",
    "import torchvision\n",
    "import torchvision.transforms as transforms\n",
    "import matplotlib.pyplot as plt\n",
    "import numpy as np\n",
    "import torch.nn as nn\n",
    "import torch.nn.functional as F\n",
    "import torch.optim as optim\n",
    "from torchsummary import summary\n",
    "from torchvision import models"
   ]
  },
  {
   "cell_type": "markdown",
   "id": "ba3bed2cfd7fcaa5",
   "metadata": {
    "id": "ba3bed2cfd7fcaa5"
   },
   "source": [
    "## Define transforms (Data Augmentation)"
   ]
  },
  {
   "cell_type": "code",
   "execution_count": null,
   "id": "ba4df284b458abd7",
   "metadata": {
    "ExecuteTime": {
     "end_time": "2024-03-30T16:29:01.917009Z",
     "start_time": "2024-03-30T16:29:01.909252Z"
    },
    "id": "ba4df284b458abd7"
   },
   "outputs": [],
   "source": [
    "# Define transforms\n",
    "\n",
    "# For training set\n",
    "\n",
    "# For testing set\n"
   ]
  },
  {
   "cell_type": "markdown",
   "id": "9a68463871691fb",
   "metadata": {
    "id": "9a68463871691fb"
   },
   "source": [
    "**Tensors**\n",
    "> - Tensors are a specialized data structure that are very similar to arrays and matrices. In PyTorch, we use tensors to encode the inputs and outputs of a model, as well as the model’s parameters.\n",
    "> - Tensors are similar to NumPy’s ndarrays, except that tensors can run on GPUs or other hardware accelerators. In fact, tensors and NumPy arrays can often share the same underlying memory, eliminating the need to copy data.\n",
    "> - Tensors are also optimized for automatic differentiation.\n"
   ]
  },
  {
   "cell_type": "markdown",
   "id": "ff3fb0dda423abf6",
   "metadata": {
    "id": "ff3fb0dda423abf6"
   },
   "source": [
    "# Load datasets and define the\n",
    "\n",
    "Torchvision provides many built-in datasets in the torchvision.datasets module, as well as utility classes for building your own datasets (https://pytorch.org/vision/main/datasets.html).\n",
    "\n",
    "> PyTorch provides two data primitives: torch.utils.data.DataLoader and torch.utils.data.Dataset that allow you to use pre-loaded datasets as well as your own data. Dataset stores the samples and their corresponding labels, and DataLoader wraps an iterable around the Dataset to enable easy access to the samples."
   ]
  },
  {
   "cell_type": "code",
   "execution_count": null,
   "id": "1da9eeafe686a485",
   "metadata": {
    "ExecuteTime": {
     "end_time": "2024-03-30T16:29:03.801574Z",
     "start_time": "2024-03-30T16:29:01.920545Z"
    },
    "id": "1da9eeafe686a485"
   },
   "outputs": [],
   "source": [
    "# Load datasets\n",
    "\n"
   ]
  },
  {
   "cell_type": "code",
   "execution_count": null,
   "id": "3dd43fd1d88a18ac",
   "metadata": {
    "ExecuteTime": {
     "end_time": "2024-03-30T16:29:03.812809Z",
     "start_time": "2024-03-30T16:29:03.804587Z"
    },
    "id": "3dd43fd1d88a18ac"
   },
   "outputs": [],
   "source": [
    "# Define batch size\n",
    "\n",
    "# Created dataloaders\n"
   ]
  },
  {
   "cell_type": "markdown",
   "id": "a87aa6330f93dd72",
   "metadata": {
    "id": "a87aa6330f93dd72"
   },
   "source": [
    "**Try!**\n",
    "Here we have used only two sets are training and the testing tests. However, for the hyperparameter tuning we need the validation set as well. Therefore, find out a solution to split the test set into two and, redo the dataset loading and dataloader preparation."
   ]
  },
  {
   "cell_type": "code",
   "execution_count": null,
   "id": "760884391aa0bb",
   "metadata": {
    "ExecuteTime": {
     "end_time": "2024-03-30T16:29:03.825262Z",
     "start_time": "2024-03-30T16:29:03.817827Z"
    },
    "id": "760884391aa0bb"
   },
   "outputs": [],
   "source": [
    "# Define the classes in the dataset\n",
    "\n"
   ]
  },
  {
   "cell_type": "markdown",
   "id": "3a8b7b6e22c41764",
   "metadata": {
    "id": "3a8b7b6e22c41764"
   },
   "source": [
    "## Display a Sample of Images"
   ]
  },
  {
   "cell_type": "code",
   "execution_count": null,
   "id": "a4a5cfdaaa43edb0",
   "metadata": {
    "ExecuteTime": {
     "end_time": "2024-03-30T16:29:04.458966Z",
     "start_time": "2024-03-30T16:29:03.828280Z"
    },
    "id": "a4a5cfdaaa43edb0"
   },
   "outputs": [],
   "source": [
    "# Visualize a batch of images\n",
    "\n",
    "def imshow(img):\n",
    "\n",
    "    # Define transform to inverse normalize a image\n",
    "    inv_normalize = transforms.Normalize(\n",
    "        mean=[-0.485 / 0.229, -0.456 / 0.224, -0.406 / 0.225],\n",
    "        std=[1 / 0.229, 1 / 0.224, 1 / 0.225]\n",
    "    )\n",
    "\n",
    "    # Inverse normalize the image\n",
    "    img = inv_normalize(img)\n",
    "\n",
    "    # Convert image into a Numpy Array for data manipuation and usage in\n",
    "    # matplotlib\n",
    "    npimg = img.numpy()\n",
    "    # In numpy images defined as no. of channels, height, width format\n",
    "    # However, matplotlib expects in height, width, channels format\n",
    "    # So, we need to transform the npimg.\n",
    "    plt.imshow(np.transpose(npimg, (1, 2, 0)))\n",
    "    plt.show()\n",
    "\n",
    "\n",
    "# Get some random training images\n",
    "\n",
    "\n",
    "# Show images\n",
    "\n",
    "\n",
    "# Print labels\n",
    "\n"
   ]
  },
  {
   "cell_type": "markdown",
   "id": "bd8ff3e6becd7bc0",
   "metadata": {
    "id": "bd8ff3e6becd7bc0"
   },
   "source": [
    "## Define CNN"
   ]
  },
  {
   "cell_type": "code",
   "execution_count": null,
   "id": "c127e729292a188",
   "metadata": {
    "ExecuteTime": {
     "end_time": "2024-03-30T16:29:40.805291Z",
     "start_time": "2024-03-30T16:29:04.461102Z"
    },
    "id": "c127e729292a188"
   },
   "outputs": [],
   "source": [
    "# Load pretrained model of ResNet18\n",
    "\n"
   ]
  },
  {
   "cell_type": "code",
   "execution_count": null,
   "id": "54014dc903e5a9f6",
   "metadata": {
    "id": "54014dc903e5a9f6"
   },
   "outputs": [],
   "source": [
    "# Freeze the parameters\n",
    "# So, during the training the the values of these parameters will not be updated\n",
    "\n"
   ]
  },
  {
   "cell_type": "code",
   "execution_count": null,
   "id": "9e2cf0d9857ab98e",
   "metadata": {
    "id": "9e2cf0d9857ab98e"
   },
   "outputs": [],
   "source": [
    "# Create the CNN model\n"
   ]
  },
  {
   "cell_type": "code",
   "execution_count": null,
   "id": "9ddb232f4f517536",
   "metadata": {
    "ExecuteTime": {
     "end_time": "2024-03-30T16:29:40.834739Z",
     "start_time": "2024-03-30T16:29:40.825992Z"
    },
    "id": "9ddb232f4f517536"
   },
   "outputs": [],
   "source": [
    "# Initialize a instance of the model\n",
    "\n"
   ]
  },
  {
   "cell_type": "markdown",
   "id": "cc40eefd0eaa05f0",
   "metadata": {
    "id": "cc40eefd0eaa05f0"
   },
   "source": [
    "## Define the Device"
   ]
  },
  {
   "cell_type": "code",
   "execution_count": null,
   "id": "b3ac3e140eca8856",
   "metadata": {
    "ExecuteTime": {
     "end_time": "2024-03-30T16:29:42.234311Z",
     "start_time": "2024-03-30T16:29:42.226943Z"
    },
    "id": "b3ac3e140eca8856"
   },
   "outputs": [],
   "source": [
    "# If cuda GPU is available, it will be set as the device otherwise cpu\n",
    "\n"
   ]
  },
  {
   "cell_type": "code",
   "execution_count": null,
   "id": "1b543360bc4554b",
   "metadata": {
    "ExecuteTime": {
     "end_time": "2024-03-30T16:29:42.247431Z",
     "start_time": "2024-03-30T16:29:42.236322Z"
    },
    "id": "1b543360bc4554b"
   },
   "outputs": [],
   "source": [
    "# Transfer model to the device\n",
    "\n"
   ]
  },
  {
   "cell_type": "code",
   "execution_count": null,
   "id": "1a957f13e936a949",
   "metadata": {
    "ExecuteTime": {
     "end_time": "2024-03-30T16:29:42.224930Z",
     "start_time": "2024-03-30T16:29:40.837755Z"
    },
    "id": "1a957f13e936a949"
   },
   "outputs": [],
   "source": [
    "# Generate  model summary\n",
    "\n"
   ]
  },
  {
   "cell_type": "markdown",
   "id": "d1a33fb3f6ff6908",
   "metadata": {
    "id": "d1a33fb3f6ff6908"
   },
   "source": [
    "## Define the Loss Function and Optimizer"
   ]
  },
  {
   "cell_type": "code",
   "execution_count": null,
   "id": "669b1307469f8832",
   "metadata": {
    "ExecuteTime": {
     "end_time": "2024-03-30T16:29:42.260054Z",
     "start_time": "2024-03-30T16:29:42.252981Z"
    },
    "id": "669b1307469f8832"
   },
   "outputs": [],
   "source": [
    "# Define loss function and the optimizer\n",
    "\n"
   ]
  },
  {
   "cell_type": "markdown",
   "id": "6f968a2a28030777",
   "metadata": {
    "id": "6f968a2a28030777"
   },
   "source": [
    "## Train the model"
   ]
  },
  {
   "cell_type": "code",
   "execution_count": null,
   "id": "60e69b0014c4237f",
   "metadata": {
    "ExecuteTime": {
     "start_time": "2024-03-30T16:29:42.261063Z"
    },
    "id": "60e69b0014c4237f",
    "is_executing": true
   },
   "outputs": [],
   "source": [
    "# Train the defined model\n"
   ]
  },
  {
   "cell_type": "markdown",
   "id": "Mfw0HC99Vkeq",
   "metadata": {
    "id": "Mfw0HC99Vkeq"
   },
   "source": [
    "## Model Saving and Loading"
   ]
  },
  {
   "cell_type": "code",
   "execution_count": null,
   "id": "kVl22lJdVdtB",
   "metadata": {
    "id": "kVl22lJdVdtB"
   },
   "outputs": [],
   "source": [
    "# Saving\n",
    "\n"
   ]
  },
  {
   "cell_type": "code",
   "execution_count": null,
   "id": "0UTpI8eCVrVo",
   "metadata": {
    "id": "0UTpI8eCVrVo"
   },
   "outputs": [],
   "source": [
    "# Loading\n",
    "\n"
   ]
  },
  {
   "cell_type": "code",
   "execution_count": null,
   "id": "suxzaTiyVtrQ",
   "metadata": {
    "id": "suxzaTiyVtrQ"
   },
   "outputs": [],
   "source": [
    "# Once more send the model to the device after loading\n"
   ]
  },
  {
   "cell_type": "markdown",
   "id": "e79c54f0039db3bf",
   "metadata": {
    "id": "e79c54f0039db3bf"
   },
   "source": [
    "## Performance with Testset"
   ]
  },
  {
   "cell_type": "code",
   "execution_count": null,
   "id": "fbe1e1188dbad085",
   "metadata": {
    "id": "fbe1e1188dbad085",
    "is_executing": true
   },
   "outputs": [],
   "source": [
    "# Measure performance of the test set\n",
    "\n"
   ]
  },
  {
   "cell_type": "markdown",
   "id": "FYd2cO7EfgVp",
   "metadata": {
    "id": "FYd2cO7EfgVp"
   },
   "source": [
    "**Try!** The method we have used here known as freezing, there is another popular method in Transfer Learning that known as fine-tuning. Even though these names use interchangbly, they means to complte different things. Try to redo the task with fine-tuning instead of freezing by yourself :)"
   ]
  },
  {
   "cell_type": "markdown",
   "id": "b4dd7a68927c5aed",
   "metadata": {
    "id": "b4dd7a68927c5aed"
   },
   "source": [
    "**Try!**\n",
    "In the above cases, we did not utilized any validation set and no hyperparameter tuning has been performed either. So model performance should be able to improve by performing some hyperparameter tuning."
   ]
  },
  {
   "cell_type": "markdown",
   "id": "83740c3f826b0765",
   "metadata": {
    "id": "83740c3f826b0765"
   },
   "source": [
    "**Try!**\n",
    "Furthermore, try to measure the training and validation set losses/accuracies within the training loop and plot them in a single plot. In this way, we will be able to identify whether model is overfitting or not. In the above case, neither training or validation losses/accuracies were calculated. Try to record the performance once per certain number of batches."
   ]
  },
  {
   "cell_type": "markdown",
   "id": "7ac71a674a54e912",
   "metadata": {
    "id": "7ac71a674a54e912"
   },
   "source": [
    "**Try!**\n",
    "Try to integrate early stopping into the training loop when the model performance w.r.t the validation set is no longer improving with further training. Try to think of a possible logic and add that into the training loop accordingly."
   ]
  },
  {
   "cell_type": "markdown",
   "id": "3e266ad502f16426",
   "metadata": {
    "id": "3e266ad502f16426"
   },
   "source": [
    "## Performance for Different Classes"
   ]
  },
  {
   "cell_type": "code",
   "execution_count": null,
   "id": "dfc3e8f7211ab7e1",
   "metadata": {
    "id": "dfc3e8f7211ab7e1",
    "is_executing": true
   },
   "outputs": [],
   "source": [
    "# Measure the performance w.r.t each class\n"
   ]
  }
 ],
 "metadata": {
  "accelerator": "GPU",
  "colab": {
   "gpuType": "T4",
   "provenance": []
  },
  "kernelspec": {
   "display_name": "Python 3 (ipykernel)",
   "language": "python",
   "name": "python3"
  },
  "language_info": {
   "codemirror_mode": {
    "name": "ipython",
    "version": 3
   },
   "file_extension": ".py",
   "mimetype": "text/x-python",
   "name": "python",
   "nbconvert_exporter": "python",
   "pygments_lexer": "ipython3",
   "version": "3.11.5"
  }
 },
 "nbformat": 4,
 "nbformat_minor": 5
}
