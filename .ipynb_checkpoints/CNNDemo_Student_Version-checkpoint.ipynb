{
 "cells": [
  {
   "cell_type": "markdown",
   "id": "b0d27821aa5691a1",
   "metadata": {
    "id": "b0d27821aa5691a1"
   },
   "source": [
    "# CNN Implementation with PyTorch"
   ]
  },
  {
   "cell_type": "markdown",
   "id": "c01cc97e25cc1bcd",
   "metadata": {
    "id": "c01cc97e25cc1bcd"
   },
   "source": [
    "Dataset: CIFAR10 (Ref: https://www.cs.toronto.edu/~kriz/cifar.html)\n",
    "Info: <br>\n",
    "> Number of Images: 60000,  32 * 32 in resolution\n",
    "> Number of Classes: 10 (Airplane, Automobile, Bird, Cat, Deer, Dog, Frog, Horse, Ship, Truck)\n",
    "\n",
    "**Prerequisites**\n",
    "> PyTorch Basics: https://youtu.be/OIenNRt2bjg\n",
    "> Python Basics: https://youtu.be/rfscVS0vtbw\n",
    "\n",
    "**References:**\n",
    "1. https://pytorch.org/tutorials/beginner/blitz/cifar10_tutorial.html\n",
    "2. https://wandb.ai/authors/ayusht/reports/Implementing-Dropout-Regularization-in-PyTorch--VmlldzoxNTgwOTE\n",
    "3. https://medium.com/artificialis/dropout-regularization-using-pytorch-in-python-7765337cb158\n",
    "3. https://pytorch.org/vision/stable/auto_examples/transforms/plot_transforms_illustrations.html#sphx-glr-auto-examples-transforms-plot-transforms-illustrations-py\n",
    "4. https://pytorch.org/vision/main/datasets.html\n",
    "5. https://pytorch.org/tutorials/beginner/basics/data_tutorial.html\n",
    "6. https://pytorch.org/tutorials/beginner/basics/tensorqs_tutorial.html#:~:text=Tensors%20are%20a%20specialized%20data,GPUs%20or%20other%20hardware%20accelerators."
   ]
  },
  {
   "cell_type": "markdown",
   "id": "zyJi040mgg6Q",
   "metadata": {
    "id": "zyJi040mgg6Q"
   },
   "source": [
    "## Load Google Drive"
   ]
  },
  {
   "cell_type": "code",
   "execution_count": null,
   "id": "PXwYQtTIgkB9",
   "metadata": {
    "id": "PXwYQtTIgkB9"
   },
   "outputs": [],
   "source": [
    "# Load Google drive to Colab\n"
   ]
  },
  {
   "cell_type": "markdown",
   "id": "9679f61635195c82",
   "metadata": {
    "id": "9679f61635195c82"
   },
   "source": [
    "## Load the Necessary Libraries"
   ]
  },
  {
   "cell_type": "code",
   "execution_count": null,
   "id": "initial_id",
   "metadata": {
    "ExecuteTime": {
     "end_time": "2024-03-30T14:09:12.154311Z",
     "start_time": "2024-03-30T14:08:28.698564Z"
    },
    "collapsed": true,
    "id": "initial_id"
   },
   "outputs": [],
   "source": [
    "import torch\n",
    "import torchvision\n",
    "import torchvision.transforms as transforms\n",
    "import matplotlib.pyplot as plt\n",
    "import numpy as np\n",
    "import torch.nn as nn\n",
    "import torch.nn.functional as F\n",
    "import torch.optim as optim\n",
    "from torchsummary import summary"
   ]
  },
  {
   "cell_type": "markdown",
   "id": "ba3bed2cfd7fcaa5",
   "metadata": {
    "id": "ba3bed2cfd7fcaa5"
   },
   "source": [
    "## Define transforms (Data Augmentation)"
   ]
  },
  {
   "cell_type": "code",
   "execution_count": null,
   "id": "ba4df284b458abd7",
   "metadata": {
    "ExecuteTime": {
     "end_time": "2024-03-30T14:09:12.247913Z",
     "start_time": "2024-03-30T14:09:12.158327Z"
    },
    "id": "ba4df284b458abd7"
   },
   "outputs": [],
   "source": [
    "# Define transforms\n",
    "\n",
    "# For training set\n",
    "\n",
    "\n",
    "# For testing set\n"
   ]
  },
  {
   "cell_type": "markdown",
   "id": "9a68463871691fb",
   "metadata": {
    "id": "9a68463871691fb"
   },
   "source": [
    "**Tensors**\n",
    "> - Tensors are a specialized data structure that are very similar to arrays and matrices. In PyTorch, we use tensors to encode the inputs and outputs of a model, as well as the model’s parameters.\n",
    "> - Tensors are similar to NumPy’s ndarrays, except that tensors can run on GPUs or other hardware accelerators. In fact, tensors and NumPy arrays can often share the same underlying memory, eliminating the need to copy data.\n",
    "> - Tensors are also optimized for automatic differentiation.\n"
   ]
  },
  {
   "cell_type": "markdown",
   "id": "ff3fb0dda423abf6",
   "metadata": {
    "id": "ff3fb0dda423abf6"
   },
   "source": [
    "# Load datasets and define the\n",
    "\n",
    "Torchvision provides many built-in datasets in the torchvision.datasets module, as well as utility classes for building your own datasets (https://pytorch.org/vision/main/datasets.html).\n",
    "\n",
    "> PyTorch provides two data primitives: torch.utils.data.DataLoader and torch.utils.data.Dataset that allow you to use pre-loaded datasets as well as your own data. Dataset stores the samples and their corresponding labels, and DataLoader wraps an iterable around the Dataset to enable easy access to the samples."
   ]
  },
  {
   "cell_type": "code",
   "execution_count": null,
   "id": "1da9eeafe686a485",
   "metadata": {
    "ExecuteTime": {
     "end_time": "2024-03-30T14:09:16.868601Z",
     "start_time": "2024-03-30T14:09:12.249926Z"
    },
    "id": "1da9eeafe686a485"
   },
   "outputs": [],
   "source": [
    "# Load datasets\n",
    "\n"
   ]
  },
  {
   "cell_type": "code",
   "execution_count": null,
   "id": "3dd43fd1d88a18ac",
   "metadata": {
    "ExecuteTime": {
     "end_time": "2024-03-30T14:09:16.878884Z",
     "start_time": "2024-03-30T14:09:16.871611Z"
    },
    "id": "3dd43fd1d88a18ac"
   },
   "outputs": [],
   "source": [
    "# Define batch size\n",
    "\n",
    "# created dataloaders\n"
   ]
  },
  {
   "cell_type": "markdown",
   "id": "a87aa6330f93dd72",
   "metadata": {
    "id": "a87aa6330f93dd72"
   },
   "source": [
    "**Try!**\n",
    "Here we have used only two sets are training and the testing tests. However, for the hyperparameter tuning we need the validation set as well. Therefore, find out a solution to split the test set into two and, redo the dataset loading and dataloader preparation."
   ]
  },
  {
   "cell_type": "code",
   "execution_count": null,
   "id": "760884391aa0bb",
   "metadata": {
    "ExecuteTime": {
     "end_time": "2024-03-30T14:09:16.888166Z",
     "start_time": "2024-03-30T14:09:16.880896Z"
    },
    "id": "760884391aa0bb"
   },
   "outputs": [],
   "source": [
    "# Define the classes in the dataset\n"
   ]
  },
  {
   "cell_type": "markdown",
   "id": "3a8b7b6e22c41764",
   "metadata": {
    "id": "3a8b7b6e22c41764"
   },
   "source": [
    "## Display a Sample of Images"
   ]
  },
  {
   "cell_type": "code",
   "execution_count": null,
   "id": "a4a5cfdaaa43edb0",
   "metadata": {
    "ExecuteTime": {
     "end_time": "2024-03-30T14:09:19.683824Z",
     "start_time": "2024-03-30T14:09:16.890179Z"
    },
    "id": "a4a5cfdaaa43edb0"
   },
   "outputs": [],
   "source": [
    "# Visualize a batch of images\n",
    "\n",
    "def imshow(img):\n",
    "    img = img / 2 + 0.5;  # Unnormalized\n",
    "    # Convert image into a Numpy Array for data manipuation and usage in\n",
    "    # matplotlib\n",
    "    npimg = img.numpy()\n",
    "    # In numpy images defined as no. of channels, height, width format\n",
    "    # However, matplotlib expects in height, width, channels format\n",
    "    # So, we need to transform the npimg.\n",
    "    plt.imshow(np.transpose(npimg, (1, 2, 0)))\n",
    "    plt.show()\n",
    "\n",
    "\n",
    "# Get some random training images\n",
    "\n",
    "\n",
    "# Show images\n",
    "\n",
    "# Print labels\n"
   ]
  },
  {
   "cell_type": "markdown",
   "id": "bd8ff3e6becd7bc0",
   "metadata": {
    "id": "bd8ff3e6becd7bc0"
   },
   "source": [
    "## Define CNN"
   ]
  },
  {
   "cell_type": "code",
   "execution_count": null,
   "id": "c127e729292a188",
   "metadata": {
    "ExecuteTime": {
     "end_time": "2024-03-30T14:09:19.696223Z",
     "start_time": "2024-03-30T14:09:19.686842Z"
    },
    "id": "c127e729292a188"
   },
   "outputs": [],
   "source": [
    "# Define the CNN model\n"
   ]
  },
  {
   "cell_type": "code",
   "execution_count": null,
   "id": "9ddb232f4f517536",
   "metadata": {
    "ExecuteTime": {
     "end_time": "2024-03-30T14:09:19.843020Z",
     "start_time": "2024-03-30T14:09:19.698240Z"
    },
    "id": "9ddb232f4f517536"
   },
   "outputs": [],
   "source": [
    "# Initialize a instance of the model\n",
    "\n"
   ]
  },
  {
   "cell_type": "markdown",
   "id": "cc40eefd0eaa05f0",
   "metadata": {
    "id": "cc40eefd0eaa05f0"
   },
   "source": [
    "## Define the Device"
   ]
  },
  {
   "cell_type": "code",
   "execution_count": null,
   "id": "b3ac3e140eca8856",
   "metadata": {
    "ExecuteTime": {
     "end_time": "2024-03-30T14:09:23.548188Z",
     "start_time": "2024-03-30T14:09:23.539537Z"
    },
    "id": "b3ac3e140eca8856"
   },
   "outputs": [],
   "source": [
    "# If cuda GPU is available, it will be set as the device otherwise cpu\n",
    "\n"
   ]
  },
  {
   "cell_type": "code",
   "execution_count": null,
   "id": "1b543360bc4554b",
   "metadata": {
    "ExecuteTime": {
     "end_time": "2024-03-30T14:09:23.561159Z",
     "start_time": "2024-03-30T14:09:23.552207Z"
    },
    "id": "1b543360bc4554b"
   },
   "outputs": [],
   "source": [
    "# Transfer model to the device\n",
    "\n"
   ]
  },
  {
   "cell_type": "code",
   "execution_count": null,
   "id": "1a957f13e936a949",
   "metadata": {
    "ExecuteTime": {
     "end_time": "2024-03-30T14:09:23.533524Z",
     "start_time": "2024-03-30T14:09:19.846033Z"
    },
    "id": "1a957f13e936a949"
   },
   "outputs": [],
   "source": [
    "# Generate model summary\n",
    "\n"
   ]
  },
  {
   "cell_type": "markdown",
   "id": "d1a33fb3f6ff6908",
   "metadata": {
    "id": "d1a33fb3f6ff6908"
   },
   "source": [
    "## Define the Loss Function and Optimizer"
   ]
  },
  {
   "cell_type": "code",
   "execution_count": null,
   "id": "669b1307469f8832",
   "metadata": {
    "ExecuteTime": {
     "end_time": "2024-03-30T14:09:23.571174Z",
     "start_time": "2024-03-30T14:09:23.564173Z"
    },
    "id": "669b1307469f8832"
   },
   "outputs": [],
   "source": [
    "# Define loss function and the optimizer\n",
    "\n"
   ]
  },
  {
   "cell_type": "markdown",
   "id": "6f968a2a28030777",
   "metadata": {
    "id": "6f968a2a28030777"
   },
   "source": [
    "## Train the model"
   ]
  },
  {
   "cell_type": "code",
   "execution_count": null,
   "id": "60e69b0014c4237f",
   "metadata": {
    "ExecuteTime": {
     "end_time": "2024-03-30T14:26:17.494438Z",
     "start_time": "2024-03-30T14:09:23.573186Z"
    },
    "id": "60e69b0014c4237f"
   },
   "outputs": [],
   "source": [
    "# Train the defined model\n",
    "\n"
   ]
  },
  {
   "cell_type": "markdown",
   "id": "f13832606b350125",
   "metadata": {
    "id": "f13832606b350125"
   },
   "source": [
    "## Model Saving and Loading"
   ]
  },
  {
   "cell_type": "code",
   "execution_count": null,
   "id": "ea62c240afc3da9d",
   "metadata": {
    "ExecuteTime": {
     "end_time": "2024-03-30T14:26:21.342211Z",
     "start_time": "2024-03-30T14:26:21.117945Z"
    },
    "id": "ea62c240afc3da9d"
   },
   "outputs": [],
   "source": [
    "# Saving\n",
    "\n"
   ]
  },
  {
   "cell_type": "code",
   "execution_count": null,
   "id": "fe0a4d8e1129b93a",
   "metadata": {
    "ExecuteTime": {
     "end_time": "2024-03-30T14:26:59.892876Z",
     "start_time": "2024-03-30T14:26:59.659958Z"
    },
    "id": "fe0a4d8e1129b93a"
   },
   "outputs": [],
   "source": [
    "# Loading\n",
    "\n"
   ]
  },
  {
   "cell_type": "code",
   "execution_count": null,
   "id": "9cd3b98741e08c5a",
   "metadata": {
    "ExecuteTime": {
     "end_time": "2024-03-30T14:27:53.129933Z",
     "start_time": "2024-03-30T14:27:53.112174Z"
    },
    "id": "9cd3b98741e08c5a"
   },
   "outputs": [],
   "source": [
    "# Once more send the model to the device after loading\n",
    "\n"
   ]
  },
  {
   "cell_type": "markdown",
   "id": "e79c54f0039db3bf",
   "metadata": {
    "id": "e79c54f0039db3bf"
   },
   "source": [
    "## Performance with Testset"
   ]
  },
  {
   "cell_type": "code",
   "execution_count": null,
   "id": "fbe1e1188dbad085",
   "metadata": {
    "ExecuteTime": {
     "end_time": "2024-03-30T14:28:02.211350Z",
     "start_time": "2024-03-30T14:27:55.961008Z"
    },
    "id": "fbe1e1188dbad085"
   },
   "outputs": [],
   "source": [
    "# Measure performance of the test set\n",
    "\n"
   ]
  },
  {
   "cell_type": "markdown",
   "id": "b4dd7a68927c5aed",
   "metadata": {
    "id": "b4dd7a68927c5aed"
   },
   "source": [
    "**Try!**\n",
    "In the above cases, we did not utilized any validation set and no hyperparameter tuning has been performed either. So model performance should be able to improve by performing some hyperparameter tuning."
   ]
  },
  {
   "cell_type": "markdown",
   "id": "83740c3f826b0765",
   "metadata": {
    "id": "83740c3f826b0765"
   },
   "source": [
    "**Try!**\n",
    "Furthermore, try to measure the training and validation set losses/accuracies within the training loop and plot them in a single plot. In this way, we will be able to identify whether model is overfitting or not. In the above case, neither training or validation losses/accuracies were calculated. Try to record the performance once per certain number of batches."
   ]
  },
  {
   "cell_type": "markdown",
   "id": "7ac71a674a54e912",
   "metadata": {
    "id": "7ac71a674a54e912"
   },
   "source": [
    "**Try!**\n",
    "Try to integrate early stopping into the training loop when the model performance w.r.t the validation set is no longer improving with further training. Try to think of a possible logic and add that into the training loop accordingly."
   ]
  },
  {
   "cell_type": "markdown",
   "id": "3e266ad502f16426",
   "metadata": {
    "id": "3e266ad502f16426"
   },
   "source": [
    "## Performance for Different Classes"
   ]
  },
  {
   "cell_type": "code",
   "execution_count": null,
   "id": "dfc3e8f7211ab7e1",
   "metadata": {
    "ExecuteTime": {
     "end_time": "2024-03-30T14:28:14.016435Z",
     "start_time": "2024-03-30T14:28:02.717706Z"
    },
    "id": "dfc3e8f7211ab7e1"
   },
   "outputs": [],
   "source": [
    "# Measure the performance w.r.t each class\n",
    "\n"
   ]
  }
 ],
 "metadata": {
  "accelerator": "GPU",
  "colab": {
   "gpuType": "T4",
   "provenance": []
  },
  "kernelspec": {
   "display_name": "Python 3 (ipykernel)",
   "language": "python",
   "name": "python3"
  },
  "language_info": {
   "codemirror_mode": {
    "name": "ipython",
    "version": 3
   },
   "file_extension": ".py",
   "mimetype": "text/x-python",
   "name": "python",
   "nbconvert_exporter": "python",
   "pygments_lexer": "ipython3",
   "version": "3.11.5"
  }
 },
 "nbformat": 4,
 "nbformat_minor": 5
}
